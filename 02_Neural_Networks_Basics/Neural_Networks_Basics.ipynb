{
 "cells": [
  {
   "cell_type": "markdown",
   "metadata": {},
   "source": [
    "#### Topics need to cover\n",
    "   - Biological vs. Artificial Neurons  \n",
    "   - Perceptron and Activation Functions (Sigmoid, Tanh, ReLU, Leaky ReLU, Swish, GELU)  \n",
    "   - Feedforward Neural Networks (FNN)  \n",
    "   - Loss Functions (MSE, Cross-Entropy, Hinge Loss, KL Divergence)  \n",
    "   - Gradient Descent (Batch, Mini-Batch, Stochastic)  \n"
   ]
  },
  {
   "cell_type": "markdown",
   "metadata": {},
   "source": []
  }
 ],
 "metadata": {
  "language_info": {
   "name": "python"
  }
 },
 "nbformat": 4,
 "nbformat_minor": 2
}
